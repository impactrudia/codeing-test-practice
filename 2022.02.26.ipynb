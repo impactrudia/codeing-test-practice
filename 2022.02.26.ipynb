{
 "cells": [
  {
   "cell_type": "code",
   "execution_count": 1,
   "id": "72258877",
   "metadata": {},
   "outputs": [
    {
     "data": {
      "text/plain": [
       "5050"
      ]
     },
     "execution_count": 1,
     "metadata": {},
     "output_type": "execute_result"
    }
   ],
   "source": [
    "## 1~n 까지의 합 구하기 o(n)\n",
    "def sum_all(n):\n",
    "    total = 0\n",
    "    for num in range(1, n+1):\n",
    "        total += num\n",
    "    return totals\n",
    "\n",
    "sum_all(100)"
   ]
  },
  {
   "cell_type": "code",
   "execution_count": 3,
   "id": "cf92bfd4",
   "metadata": {},
   "outputs": [
    {
     "data": {
      "text/plain": [
       "5050"
      ]
     },
     "execution_count": 3,
     "metadata": {},
     "output_type": "execute_result"
    }
   ],
   "source": [
    "## 1~n 까지의 합 구하기 o(1)\n",
    "def sum_all(n):\n",
    "    return int(n*(n+1)/2)\n",
    "\n",
    "sum_all(100)"
   ]
  },
  {
   "cell_type": "code",
   "execution_count": null,
   "id": "00121051",
   "metadata": {},
   "outputs": [],
   "source": [
    "## 둘 중 더 좋은 알고리즘은? o(1)"
   ]
  }
 ],
 "metadata": {
  "kernelspec": {
   "display_name": "Python 3 (ipykernel)",
   "language": "python",
   "name": "python3"
  },
  "language_info": {
   "codemirror_mode": {
    "name": "ipython",
    "version": 3
   },
   "file_extension": ".py",
   "mimetype": "text/x-python",
   "name": "python",
   "nbconvert_exporter": "python",
   "pygments_lexer": "ipython3",
   "version": "3.9.7"
  }
 },
 "nbformat": 4,
 "nbformat_minor": 5
}
