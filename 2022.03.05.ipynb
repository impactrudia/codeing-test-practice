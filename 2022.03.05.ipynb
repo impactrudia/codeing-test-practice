{
 "cells": [
  {
   "cell_type": "code",
   "execution_count": 6,
   "id": "9002d3b2",
   "metadata": {},
   "outputs": [],
   "source": [
    "## 버블정렬\n",
    "\n",
    "def bubblesort(data):\n",
    "    swap = False\n",
    "    for index in range(len(data)-1):\n",
    "        for index2 in range(len(data)-index -1):\n",
    "            if data[index2] > data[index2 + 1]:\n",
    "                data[index2], data[index2+1] = data[index2+1], data[index2]\n",
    "                swap = True\n",
    "                \n",
    "            if swap == False:\n",
    "                break"
   ]
  },
  {
   "cell_type": "code",
   "execution_count": 4,
   "id": "5c663cad",
   "metadata": {},
   "outputs": [
    {
     "data": {
      "text/plain": [
       "[19, 81, 71, 3, 49, 29, 8, 68, 44, 54]"
      ]
     },
     "execution_count": 4,
     "metadata": {},
     "output_type": "execute_result"
    }
   ],
   "source": [
    "import random\n",
    "\n",
    "data_list = random.sample(range(100), 10)\n",
    "data_list"
   ]
  },
  {
   "cell_type": "code",
   "execution_count": 8,
   "id": "2c68c93f",
   "metadata": {},
   "outputs": [],
   "source": [
    "bubblesort(data_list)"
   ]
  },
  {
   "cell_type": "code",
   "execution_count": null,
   "id": "5a72f53b",
   "metadata": {},
   "outputs": [],
   "source": []
  }
 ],
 "metadata": {
  "kernelspec": {
   "display_name": "Python 3 (ipykernel)",
   "language": "python",
   "name": "python3"
  },
  "language_info": {
   "codemirror_mode": {
    "name": "ipython",
    "version": 3
   },
   "file_extension": ".py",
   "mimetype": "text/x-python",
   "name": "python",
   "nbconvert_exporter": "python",
   "pygments_lexer": "ipython3",
   "version": "3.9.7"
  }
 },
 "nbformat": 4,
 "nbformat_minor": 5
}
