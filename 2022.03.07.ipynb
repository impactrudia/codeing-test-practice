{
 "cells": [
  {
   "cell_type": "code",
   "execution_count": null,
   "id": "52da8e16",
   "metadata": {},
   "outputs": [],
   "source": [
    "## 1. for num in range(len(data_list)) 반복\n",
    "## 2. swap = 0 (교환이 되었는지를 확인하는 변수를 두자)\n",
    "## 3. 반복문 안에서, for index in range(len(data_list) - num -1) n-1번 반복해야 하므로\n",
    "## 4. 반복문안의 반복문 안에서 if data_lsit[index] > data_list[index +1]이면\n",
    "## 5. data_list[index], data_list[index+1] = data_list[index+1], data_list[index]\n",
    "## 6. swap += 1\n",
    "## 7. 반복문 안에서, if swap == 0 이면, break 끝"
   ]
  },
  {
   "cell_type": "code",
   "execution_count": 4,
   "id": "e1d06e5e",
   "metadata": {},
   "outputs": [],
   "source": [
    "def bubblesort(data):\n",
    "    for index in range(len(data)-1):\n",
    "        swap = False\n",
    "        for index2 in range(len(data) - index -1):\n",
    "            if data[index2] > data[index2+1]:\n",
    "                data[index2], data[index2+1] = data[index2+1], data[index2]\n",
    "                swap = True\n",
    "                \n",
    "                \n",
    "        if swap == False:\n",
    "            break;\n",
    "    return data"
   ]
  },
  {
   "cell_type": "code",
   "execution_count": 7,
   "id": "e4c05145",
   "metadata": {},
   "outputs": [
    {
     "name": "stdout",
     "output_type": "stream",
     "text": [
      "[28, 44, 55, 62, 66, 70, 71, 72, 76, 86]\n"
     ]
    }
   ],
   "source": [
    "import random\n",
    "\n",
    "data_list = random.sample(range(100),10)\n",
    "print(bubblesort(data_list))"
   ]
  },
  {
   "cell_type": "code",
   "execution_count": null,
   "id": "57472d68",
   "metadata": {},
   "outputs": [],
   "source": []
  },
  {
   "cell_type": "code",
   "execution_count": null,
   "id": "fe4655b4",
   "metadata": {},
   "outputs": [],
   "source": []
  }
 ],
 "metadata": {
  "kernelspec": {
   "display_name": "Python 3 (ipykernel)",
   "language": "python",
   "name": "python3"
  },
  "language_info": {
   "codemirror_mode": {
    "name": "ipython",
    "version": 3
   },
   "file_extension": ".py",
   "mimetype": "text/x-python",
   "name": "python",
   "nbconvert_exporter": "python",
   "pygments_lexer": "ipython3",
   "version": "3.9.7"
  }
 },
 "nbformat": 4,
 "nbformat_minor": 5
}
