{
 "cells": [
  {
   "cell_type": "code",
   "execution_count": 4,
   "id": "fdf66a9c",
   "metadata": {},
   "outputs": [],
   "source": [
    "## 선택정렬 - 최소한의 값을 먼저 찾는 것.\n",
    "\n",
    "def selection_sort(data):\n",
    "    for stand in range(len(data)-1):\n",
    "        lowest = stand\n",
    "        for index in range(stand +1, len(data)):\n",
    "            if data[lowest] > data[index]:\n",
    "                lowest = index\n",
    "        data[lowest], data[stand] = data[stand], data[lowest]\n",
    "    return data"
   ]
  },
  {
   "cell_type": "code",
   "execution_count": 5,
   "id": "97ade669",
   "metadata": {},
   "outputs": [],
   "source": [
    "import random\n",
    "\n",
    "data_list = random.sample(range(100),10)"
   ]
  },
  {
   "cell_type": "code",
   "execution_count": 6,
   "id": "58dcee94",
   "metadata": {},
   "outputs": [
    {
     "data": {
      "text/plain": [
       "[9, 13, 23, 36, 37, 57, 61, 76, 89, 97]"
      ]
     },
     "execution_count": 6,
     "metadata": {},
     "output_type": "execute_result"
    }
   ],
   "source": [
    "selection_sort(data_list)"
   ]
  },
  {
   "cell_type": "code",
   "execution_count": null,
   "id": "d4f49724",
   "metadata": {},
   "outputs": [],
   "source": []
  }
 ],
 "metadata": {
  "kernelspec": {
   "display_name": "Python 3 (ipykernel)",
   "language": "python",
   "name": "python3"
  },
  "language_info": {
   "codemirror_mode": {
    "name": "ipython",
    "version": 3
   },
   "file_extension": ".py",
   "mimetype": "text/x-python",
   "name": "python",
   "nbconvert_exporter": "python",
   "pygments_lexer": "ipython3",
   "version": "3.9.7"
  }
 },
 "nbformat": 4,
 "nbformat_minor": 5
}
