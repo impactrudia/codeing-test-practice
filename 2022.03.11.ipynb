{
 "cells": [
  {
   "cell_type": "code",
   "execution_count": 9,
   "id": "f46a519e",
   "metadata": {},
   "outputs": [],
   "source": [
    "## 노드 클래스 만들기\n",
    "class Node:\n",
    "    def __init__(self, value):\n",
    "        self.value = value\n",
    "        self.left = None\n",
    "        self.right = None\n",
    "        \n",
    "class NodeMgmt:\n",
    "    def __init__(self, head):\n",
    "        self.head = head\n",
    "        \n",
    "    def insert(self, value):\n",
    "        self.current_node = self.head# 루트노드를 current_node에 넣는다.\n",
    "        while True:# 반복문\n",
    "            if value < self.current_node.value:# 기준 값이 루트 값보다 작다면\n",
    "                if self.current_node.left != None:# 왼쪽 노드에 값이 있다면\n",
    "                    self.current_node = self.current_node.left# 루트값을 왼쪽 노드에 넣는다\n",
    "                else:\n",
    "                    self.current_node.left = Node(value)# 왼쪽 노드에 값을 넣는다. 반복한다.\n",
    "                    break# while문을 멈춘다.\n",
    "            else:\n",
    "                if self.current_node.right != None:# 오른쪽 노드에 값이 비어있지 않다면\n",
    "                    self.current_node = self.current_node.right# 루트 노드에 값을 넣는다. 반복한다\n",
    "                else:\n",
    "                    self.current_node.right = Node(value)# 오른쪽 노드에 값을 넣는다.\n",
    "                    break# while문을 멈춘다.\n",
    "                    \n",
    "    def search(self, value):\n",
    "        self.current_node = self.head# 루트노드를 current_node에 넣는다.\n",
    "        while self.current_node:# 노드가 있다면\n",
    "            if self.current_node.value == value:# 노드에 값이 있다면\n",
    "                return True# 리턴 True\n",
    "            elif value < self.current_node.value:# 값에 노드가 작다면\n",
    "                self.current_node = self.current_node.left#왼쪽 노드 값을 루트노드에 넣고 반복한다.\n",
    "            else:\n",
    "                self.current_node = self.current_node.right#오른쪽 노드 값을 루트노드에 넣고 반복한다.\n",
    "        return False# 리턴 False"
   ]
  },
  {
   "cell_type": "code",
   "execution_count": 5,
   "id": "7e34172d",
   "metadata": {},
   "outputs": [],
   "source": [
    "head = Node(1)\n",
    "BST = NodeMgmt(head)\n",
    "BST.insert(2)\n",
    "BST.insert(3)\n",
    "BST.insert(0)\n",
    "BST.insert(5)"
   ]
  },
  {
   "cell_type": "code",
   "execution_count": 7,
   "id": "a48bb33a",
   "metadata": {},
   "outputs": [
    {
     "data": {
      "text/plain": [
       "True"
      ]
     },
     "execution_count": 7,
     "metadata": {},
     "output_type": "execute_result"
    }
   ],
   "source": [
    "BST.search(5)"
   ]
  },
  {
   "cell_type": "code",
   "execution_count": null,
   "id": "22f73825",
   "metadata": {},
   "outputs": [],
   "source": []
  }
 ],
 "metadata": {
  "kernelspec": {
   "display_name": "Python 3 (ipykernel)",
   "language": "python",
   "name": "python3"
  },
  "language_info": {
   "codemirror_mode": {
    "name": "ipython",
    "version": 3
   },
   "file_extension": ".py",
   "mimetype": "text/x-python",
   "name": "python",
   "nbconvert_exporter": "python",
   "pygments_lexer": "ipython3",
   "version": "3.9.7"
  }
 },
 "nbformat": 4,
 "nbformat_minor": 5
}
