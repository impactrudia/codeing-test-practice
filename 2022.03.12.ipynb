{
 "cells": [
  {
   "cell_type": "code",
   "execution_count": 10,
   "id": "3e9a2d58",
   "metadata": {},
   "outputs": [],
   "source": [
    "## 이진 탐색 트리 탐색\n",
    "class Node:\n",
    "    def __init__(self, value):\n",
    "        self.value = value\n",
    "        self.left = None\n",
    "        self.right = None\n",
    "        \n",
    "class NodeMgmt:\n",
    "    def __init__(self, head):\n",
    "        self.head = head# 루트 노드\n",
    "        \n",
    "    def insert(self, value):\n",
    "        self.current_node = self.head# 현재 노드\n",
    "        while True:\n",
    "            if value < self.current_node.value: # 추가하려는 노드가 현재 노드보다 작으면\n",
    "                if self.current_node.left != None:# 노드가 값이 없으면\n",
    "                    self.current_node = self.current_node.left # 현재 모드를 왼쪽에 넣어준다.\n",
    "                else:\n",
    "                    self.current_node.left = Node(value) # 왼쪽 값을 넣어준다\n",
    "                    break\n",
    "            else:\n",
    "                if self.current_node.right != None: # 오른쪽 값이 있으면\n",
    "                    self.current_node = self.current_node.right # 오른쪽 값을 현재 노드에 넣어준다\n",
    "                else:\n",
    "                    self.current_node.right = Node(value) # 오른쪽 값을 노드에 넣어줌.\n",
    "                    break\n",
    "    \n",
    "    def search(self, value):\n",
    "        self.current_node = self.head # 현재 노드를 헤드에 넣어준다.\n",
    "        while self.current_node:# 노드에 있는 동안\n",
    "            if self.current_node.value == value: # 값이있으면\n",
    "                return True # 있다\n",
    "            elif value < self.current_node.value: # 현재 노드보다 값이 작으면\n",
    "                self.current_node = self.current_node.left # 현재 노드에 왼쪽값을 넣어준다\n",
    "            else:\n",
    "                self.current_node = self.current_node.right # 현재 노드에 오른쪽 값을 넣어준다\n",
    "        return False"
   ]
  },
  {
   "cell_type": "code",
   "execution_count": 11,
   "id": "c8698511",
   "metadata": {},
   "outputs": [
    {
     "data": {
      "text/plain": [
       "False"
      ]
     },
     "execution_count": 11,
     "metadata": {},
     "output_type": "execute_result"
    }
   ],
   "source": [
    "head = Node(1)\n",
    "BST = NodeMgmt(head)\n",
    "BST.insert(2)\n",
    "BST.insert(3)\n",
    "BST.insert(0)\n",
    "\n",
    "BST.search(-1)"
   ]
  },
  {
   "cell_type": "code",
   "execution_count": null,
   "id": "d1e9460b",
   "metadata": {},
   "outputs": [],
   "source": []
  }
 ],
 "metadata": {
  "kernelspec": {
   "display_name": "Python 3 (ipykernel)",
   "language": "python",
   "name": "python3"
  },
  "language_info": {
   "codemirror_mode": {
    "name": "ipython",
    "version": 3
   },
   "file_extension": ".py",
   "mimetype": "text/x-python",
   "name": "python",
   "nbconvert_exporter": "python",
   "pygments_lexer": "ipython3",
   "version": "3.9.7"
  }
 },
 "nbformat": 4,
 "nbformat_minor": 5
}
