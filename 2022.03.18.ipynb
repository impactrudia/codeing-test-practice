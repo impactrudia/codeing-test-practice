{
 "cells": [
  {
   "cell_type": "code",
   "execution_count": null,
   "id": "b1c5878d",
   "metadata": {},
   "outputs": [],
   "source": [
    "## 트리\n",
    "def delete(self, value):\n",
    "    searched = False\n",
    "    self.current_node = self.head\n",
    "    self.parent = self.head\n",
    "    while self.current_node:\n",
    "        if self.current_node.value == value:\n",
    "            searched = True\n",
    "            break\n",
    "        elif value < self.current_node.value:\n",
    "            self.parent = self.current_node\n",
    "            self.current_node = self.current_node.left\n",
    "        else:\n",
    "            self.parent = self.current_node\n",
    "            self.current_node = self.current_node.right\n",
    "    if searched == False:\n",
    "        return False\n",
    "## case 1    \n",
    "## self.current_node 가 삭제할 Node, self.parent는 삭제할 Node Parent Node인 상태\n",
    "if self.current_node.left == None and self.current_node.right == None:\n",
    "    if value < self.parent.value:\n",
    "        self.parent.left = None\n",
    "    else:\n",
    "        self.parent.right = None\n",
    "    del self.current_node\n",
    "    \n",
    "## case 2\n",
    "if self.current_node.left != None and self.current_node.right == None:\n",
    "    if value < self.parent.value:\n",
    "        self.parent.left = self.current_node.left\n",
    "    else:\n",
    "        self.parent.right = self.current_node.left\n",
    "elif self.current_node.left == None and self.current_node.right != None:\n",
    "    if value < self.parent.value:\n",
    "        self.parent.left = self.current_node.right\n",
    "    else:\n",
    "        self.parent.right = self.current_node.right\n",
    "        \n",
    "## case 3\n",
    "else:\n",
    "    self.change_node = self.current_node.right\n",
    "    self.change_node_parent = self.current_node.right\n",
    "    while self.change_node.left != None:\n",
    "        self.change_node_parent = self.change_node\n",
    "        self.change_node = self.chhange_node.left\n",
    "    if self.change_node.right != None:\n",
    "        self.change_node_parent.left = self.change_node.right\n",
    "    else:\n",
    "        self.change_node_parent.left = None\n",
    "    self.parent.right = self.change_node\n",
    "    self.change_node.left = self.current_node.left\n",
    "    self.change_node.right = self.current_node.right"
   ]
  }
 ],
 "metadata": {
  "kernelspec": {
   "display_name": "Python 3 (ipykernel)",
   "language": "python",
   "name": "python3"
  },
  "language_info": {
   "codemirror_mode": {
    "name": "ipython",
    "version": 3
   },
   "file_extension": ".py",
   "mimetype": "text/x-python",
   "name": "python",
   "nbconvert_exporter": "python",
   "pygments_lexer": "ipython3",
   "version": "3.9.7"
  }
 },
 "nbformat": 4,
 "nbformat_minor": 5
}
